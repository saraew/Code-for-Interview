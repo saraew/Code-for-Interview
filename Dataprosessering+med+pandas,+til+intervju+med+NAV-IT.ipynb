{
 "cells": [
  {
   "cell_type": "raw",
   "metadata": {},
   "source": [
    "###Case-oppgave til intervju, dataprosesering og dataanalyse\n"
   ]
  },
  {
   "cell_type": "code",
   "execution_count": 4,
   "metadata": {
    "collapsed": true
   },
   "outputs": [],
   "source": [
    "import pandas as pd\n",
    "import numpy as np\n",
    "import datetime\n",
    "import matplotlib.pyplot as plt"
   ]
  },
  {
   "cell_type": "code",
   "execution_count": 5,
   "metadata": {},
   "outputs": [
    {
     "data": {
      "text/html": [
       "<div>\n",
       "<style>\n",
       "    .dataframe thead tr:only-child th {\n",
       "        text-align: right;\n",
       "    }\n",
       "\n",
       "    .dataframe thead th {\n",
       "        text-align: left;\n",
       "    }\n",
       "\n",
       "    .dataframe tbody tr th {\n",
       "        vertical-align: top;\n",
       "    }\n",
       "</style>\n",
       "<table border=\"1\" class=\"dataframe\">\n",
       "  <thead>\n",
       "    <tr style=\"text-align: right;\">\n",
       "      <th></th>\n",
       "      <th>customer_id</th>\n",
       "      <th>birth_date</th>\n",
       "      <th>signed_up_from_channel</th>\n",
       "    </tr>\n",
       "  </thead>\n",
       "  <tbody>\n",
       "    <tr>\n",
       "      <th>0</th>\n",
       "      <td>835f110d2db18bd1b3acc3a63063c59ad125a254</td>\n",
       "      <td>1967-01-01</td>\n",
       "      <td>Web</td>\n",
       "    </tr>\n",
       "    <tr>\n",
       "      <th>1</th>\n",
       "      <td>332d56903494dbe693961f0dd0cb71c18a4484a6</td>\n",
       "      <td>1995-01-01</td>\n",
       "      <td>Web</td>\n",
       "    </tr>\n",
       "    <tr>\n",
       "      <th>2</th>\n",
       "      <td>3c06e11e88d6bdcd4745a31e6e3d76f2d58c206d</td>\n",
       "      <td>1980-01-01</td>\n",
       "      <td>Web</td>\n",
       "    </tr>\n",
       "    <tr>\n",
       "      <th>3</th>\n",
       "      <td>550147e201b11906a024a7f410e6a46135cdef46</td>\n",
       "      <td>1951-01-01</td>\n",
       "      <td>Web</td>\n",
       "    </tr>\n",
       "    <tr>\n",
       "      <th>4</th>\n",
       "      <td>2efaa505f57c11be29c0bc56a26b0cadf8061fed</td>\n",
       "      <td>1987-01-01</td>\n",
       "      <td>Web</td>\n",
       "    </tr>\n",
       "  </tbody>\n",
       "</table>\n",
       "</div>"
      ],
      "text/plain": [
       "                                customer_id  birth_date signed_up_from_channel\n",
       "0  835f110d2db18bd1b3acc3a63063c59ad125a254  1967-01-01                    Web\n",
       "1  332d56903494dbe693961f0dd0cb71c18a4484a6  1995-01-01                    Web\n",
       "2  3c06e11e88d6bdcd4745a31e6e3d76f2d58c206d  1980-01-01                    Web\n",
       "3  550147e201b11906a024a7f410e6a46135cdef46  1951-01-01                    Web\n",
       "4  2efaa505f57c11be29c0bc56a26b0cadf8061fed  1987-01-01                    Web"
      ]
     },
     "execution_count": 5,
     "metadata": {},
     "output_type": "execute_result"
    }
   ],
   "source": [
    "customer = pd.read_csv('customers.csv', delimiter=',')\n",
    "customer.head()"
   ]
  },
  {
   "cell_type": "code",
   "execution_count": 6,
   "metadata": {},
   "outputs": [
    {
     "data": {
      "text/html": [
       "<div>\n",
       "<style>\n",
       "    .dataframe thead tr:only-child th {\n",
       "        text-align: right;\n",
       "    }\n",
       "\n",
       "    .dataframe thead th {\n",
       "        text-align: left;\n",
       "    }\n",
       "\n",
       "    .dataframe tbody tr th {\n",
       "        vertical-align: top;\n",
       "    }\n",
       "</style>\n",
       "<table border=\"1\" class=\"dataframe\">\n",
       "  <thead>\n",
       "    <tr style=\"text-align: right;\">\n",
       "      <th></th>\n",
       "      <th>order_id</th>\n",
       "      <th>customer_id</th>\n",
       "      <th>delivery_date</th>\n",
       "      <th>is_delivery</th>\n",
       "      <th>zip_place</th>\n",
       "      <th>product_id</th>\n",
       "      <th>quantity</th>\n",
       "      <th>net_unit_price</th>\n",
       "      <th>is_from_recipe</th>\n",
       "      <th>is_from_product_list</th>\n",
       "    </tr>\n",
       "  </thead>\n",
       "  <tbody>\n",
       "    <tr>\n",
       "      <th>0</th>\n",
       "      <td>b5bd36902333660e728adbca18e72db305028c00</td>\n",
       "      <td>42d70c111366c2e57877a60da9482448c16a92c2</td>\n",
       "      <td>2018-01-01</td>\n",
       "      <td>True</td>\n",
       "      <td>Oslo</td>\n",
       "      <td>20329</td>\n",
       "      <td>1.0</td>\n",
       "      <td>45.22</td>\n",
       "      <td>False</td>\n",
       "      <td>False</td>\n",
       "    </tr>\n",
       "    <tr>\n",
       "      <th>1</th>\n",
       "      <td>b5bd36902333660e728adbca18e72db305028c00</td>\n",
       "      <td>42d70c111366c2e57877a60da9482448c16a92c2</td>\n",
       "      <td>2018-01-01</td>\n",
       "      <td>True</td>\n",
       "      <td>Oslo</td>\n",
       "      <td>9329</td>\n",
       "      <td>3.0</td>\n",
       "      <td>4.78</td>\n",
       "      <td>False</td>\n",
       "      <td>False</td>\n",
       "    </tr>\n",
       "    <tr>\n",
       "      <th>2</th>\n",
       "      <td>b5bd36902333660e728adbca18e72db305028c00</td>\n",
       "      <td>42d70c111366c2e57877a60da9482448c16a92c2</td>\n",
       "      <td>2018-01-01</td>\n",
       "      <td>True</td>\n",
       "      <td>Oslo</td>\n",
       "      <td>2329</td>\n",
       "      <td>1.0</td>\n",
       "      <td>25.13</td>\n",
       "      <td>False</td>\n",
       "      <td>False</td>\n",
       "    </tr>\n",
       "    <tr>\n",
       "      <th>3</th>\n",
       "      <td>b5bd36902333660e728adbca18e72db305028c00</td>\n",
       "      <td>42d70c111366c2e57877a60da9482448c16a92c2</td>\n",
       "      <td>2018-01-01</td>\n",
       "      <td>True</td>\n",
       "      <td>Oslo</td>\n",
       "      <td>8360</td>\n",
       "      <td>1.0</td>\n",
       "      <td>29.52</td>\n",
       "      <td>False</td>\n",
       "      <td>False</td>\n",
       "    </tr>\n",
       "    <tr>\n",
       "      <th>4</th>\n",
       "      <td>b5bd36902333660e728adbca18e72db305028c00</td>\n",
       "      <td>42d70c111366c2e57877a60da9482448c16a92c2</td>\n",
       "      <td>2018-01-01</td>\n",
       "      <td>True</td>\n",
       "      <td>Oslo</td>\n",
       "      <td>26525</td>\n",
       "      <td>2.0</td>\n",
       "      <td>2.96</td>\n",
       "      <td>False</td>\n",
       "      <td>False</td>\n",
       "    </tr>\n",
       "  </tbody>\n",
       "</table>\n",
       "</div>"
      ],
      "text/plain": [
       "                                   order_id  \\\n",
       "0  b5bd36902333660e728adbca18e72db305028c00   \n",
       "1  b5bd36902333660e728adbca18e72db305028c00   \n",
       "2  b5bd36902333660e728adbca18e72db305028c00   \n",
       "3  b5bd36902333660e728adbca18e72db305028c00   \n",
       "4  b5bd36902333660e728adbca18e72db305028c00   \n",
       "\n",
       "                                customer_id delivery_date  is_delivery  \\\n",
       "0  42d70c111366c2e57877a60da9482448c16a92c2    2018-01-01         True   \n",
       "1  42d70c111366c2e57877a60da9482448c16a92c2    2018-01-01         True   \n",
       "2  42d70c111366c2e57877a60da9482448c16a92c2    2018-01-01         True   \n",
       "3  42d70c111366c2e57877a60da9482448c16a92c2    2018-01-01         True   \n",
       "4  42d70c111366c2e57877a60da9482448c16a92c2    2018-01-01         True   \n",
       "\n",
       "  zip_place  product_id  quantity  net_unit_price  is_from_recipe  \\\n",
       "0      Oslo       20329       1.0           45.22           False   \n",
       "1      Oslo        9329       3.0            4.78           False   \n",
       "2      Oslo        2329       1.0           25.13           False   \n",
       "3      Oslo        8360       1.0           29.52           False   \n",
       "4      Oslo       26525       2.0            2.96           False   \n",
       "\n",
       "   is_from_product_list  \n",
       "0                 False  \n",
       "1                 False  \n",
       "2                 False  \n",
       "3                 False  \n",
       "4                 False  "
      ]
     },
     "execution_count": 6,
     "metadata": {},
     "output_type": "execute_result"
    }
   ],
   "source": [
    "order_lines = pd.read_csv('order_lines.csv')\n",
    "order_lines.head()"
   ]
  },
  {
   "cell_type": "code",
   "execution_count": 7,
   "metadata": {},
   "outputs": [
    {
     "data": {
      "text/html": [
       "<div>\n",
       "<style>\n",
       "    .dataframe thead tr:only-child th {\n",
       "        text-align: right;\n",
       "    }\n",
       "\n",
       "    .dataframe thead th {\n",
       "        text-align: left;\n",
       "    }\n",
       "\n",
       "    .dataframe tbody tr th {\n",
       "        vertical-align: top;\n",
       "    }\n",
       "</style>\n",
       "<table border=\"1\" class=\"dataframe\">\n",
       "  <thead>\n",
       "    <tr style=\"text-align: right;\">\n",
       "      <th></th>\n",
       "      <th>product_id</th>\n",
       "      <th>product_name</th>\n",
       "      <th>main_category</th>\n",
       "      <th>sub_category</th>\n",
       "      <th>brand</th>\n",
       "    </tr>\n",
       "  </thead>\n",
       "  <tbody>\n",
       "    <tr>\n",
       "      <th>5687</th>\n",
       "      <td>9329</td>\n",
       "      <td>Banan Colombia 1.00 stk</td>\n",
       "      <td>Frukt og grÃ¸nt</td>\n",
       "      <td>Frukt</td>\n",
       "      <td>NaN</td>\n",
       "    </tr>\n",
       "  </tbody>\n",
       "</table>\n",
       "</div>"
      ],
      "text/plain": [
       "      product_id              product_name    main_category sub_category brand\n",
       "5687        9329   Banan Colombia 1.00 stk  Frukt og grÃ¸nt        Frukt   NaN"
      ]
     },
     "execution_count": 7,
     "metadata": {},
     "output_type": "execute_result"
    }
   ],
   "source": [
    "products = pd.read_csv('products.csv')\n",
    "products[products.product_id ==9329]"
   ]
  },
  {
   "cell_type": "markdown",
   "metadata": {},
   "source": [
    "# Analyse "
   ]
  },
  {
   "cell_type": "code",
   "execution_count": 8,
   "metadata": {},
   "outputs": [
    {
     "data": {
      "text/plain": [
       "customer_id               object\n",
       "birth_date                object\n",
       "signed_up_from_channel    object\n",
       "dtype: object"
      ]
     },
     "execution_count": 8,
     "metadata": {},
     "output_type": "execute_result"
    }
   ],
   "source": [
    "customer.dtypes\n"
   ]
  },
  {
   "cell_type": "code",
   "execution_count": 9,
   "metadata": {},
   "outputs": [
    {
     "data": {
      "text/plain": [
       "order_id                 object\n",
       "customer_id              object\n",
       "delivery_date            object\n",
       "is_delivery                bool\n",
       "zip_place                object\n",
       "product_id                int64\n",
       "quantity                float64\n",
       "net_unit_price          float64\n",
       "is_from_recipe             bool\n",
       "is_from_product_list       bool\n",
       "dtype: object"
      ]
     },
     "execution_count": 9,
     "metadata": {},
     "output_type": "execute_result"
    }
   ],
   "source": [
    "order_lines.dtypes"
   ]
  },
  {
   "cell_type": "code",
   "execution_count": 10,
   "metadata": {
    "collapsed": true
   },
   "outputs": [],
   "source": [
    "youngest = customer[\"birth_date\"].min()\n",
    "oldest = customer[\"birth_date\"].max()\n",
    "#print(youngest, oldest)"
   ]
  },
  {
   "cell_type": "code",
   "execution_count": 11,
   "metadata": {},
   "outputs": [
    {
     "name": "stdout",
     "output_type": "stream",
     "text": [
      "Mean birth 1978.406976744186\n",
      "Median birth 1981.0\n"
     ]
    }
   ],
   "source": [
    "thisdate = datetime.datetime.now()\n",
    "thisyear = thisdate.year\n",
    "#print(\"Thisyear:\", thisyear)\n",
    "\n",
    "\n",
    "for rom in customer:\n",
    "    customer['birth_date'] = customer['birth_date'].str.slice(0,4)\n",
    "\n",
    "customer[\"birth_date\"] = customer[\"birth_date\"].astype(int)\n",
    "mean_birth = customer['birth_date'].mean()\n",
    "median_birth = customer['birth_date'].median()\n",
    "\n",
    "\n",
    "print(\"Mean birth\", mean_birth)\n",
    "print(\"Median birth\",median_birth)\n"
   ]
  },
  {
   "cell_type": "code",
   "execution_count": 12,
   "metadata": {},
   "outputs": [
    {
     "name": "stdout",
     "output_type": "stream",
     "text": [
      "Sum of the orders: 343802.0\n",
      "No. of unique customer id's: 946\n",
      "No. of unique orders: 8580\n",
      "Average order no.: 9.069767441860465\n",
      "Median no:  4.0\n"
     ]
    }
   ],
   "source": [
    "#order_lines_drop = order_lines.drop(['product_id','quantity', 'net_unit_price', 'is_from_recipe', 'is_from_product_list'], axis = 1)\n",
    "\n",
    "order_lines_gr = order_lines.groupby(['order_id']).first()\n",
    "unique_customers = order_lines_gr['customer_id'].nunique()\n",
    "unique_orders = len(order_lines_gr)\n",
    "\n",
    "#print(order_lines_gr)\n",
    "\n",
    "\n",
    "\n",
    "#Number of purchases for each customer\n",
    "no_purchases = order_lines_gr.groupby(['customer_id'])['product_id'].count()\n",
    "#Number of products each customer has purchased in total\n",
    "no_products = order_lines.groupby(['customer_id'])['quantity'].sum()\n",
    "order_lines[\"sum_product\"] = order_lines['quantity']*order_lines['net_unit_price']\n",
    "sum_products = order_lines.groupby(['customer_id'])['sum_product'].sum()\n",
    "\n",
    "\n",
    "print(\"Sum of the orders:\", no_products.sum())\n",
    "print(\"No. of unique customer id's:\",unique_customers)\n",
    "print(\"No. of unique orders:\", unique_orders)\n",
    "print(\"Average order no.:\", no_purchases.mean())\n",
    "print(\"Median no: \", no_purchases.median())\n",
    "\n",
    "#print(\"Sum Products\", sum_products)\n",
    "#print(\"Number of purchases: \", no_purchases)\n",
    "#print()\n",
    "#print(\"Number of products:\", no_products)"
   ]
  },
  {
   "cell_type": "code",
   "execution_count": 13,
   "metadata": {
    "collapsed": true
   },
   "outputs": [],
   "source": [
    "def purchase_stats(no_products, no_purchases, sum_products):\n",
    "    frequent_avg = 0\n",
    "    counter_freq = 0\n",
    "    rarely_avg = 0\n",
    "    counter_rare = 1\n",
    "    frequent_sum = 0\n",
    "    rarely_sum = 0\n",
    "    money_freq = 0\n",
    "    money_rare = 0\n",
    "    for i in range (len(no_purchases)):\n",
    "        if (no_purchases[i] >= 9):\n",
    "            frequent_avg += int(no_products[i]/no_purchases[i])\n",
    "            frequent_sum += no_products[i]\n",
    "            money_freq += sum_products[i]/no_purchases[i]\n",
    "            counter_freq += 1\n",
    "            #print(no_products[col])\n",
    "        else:\n",
    "            rarely_avg += int(no_products[i]/no_purchases[i])\n",
    "            rarely_sum += no_products[i]\n",
    "            money_rare += (sum_products[i]/no_purchases[i])\n",
    "            counter_rare += 1\n",
    "                \n",
    "    return frequent_avg, rarely_avg, counter_freq, counter_rare, frequent_sum, rarely_sum, money_freq, money_rare\n",
    "\n"
   ]
  },
  {
   "cell_type": "code",
   "execution_count": 58,
   "metadata": {},
   "outputs": [
    {
     "name": "stdout",
     "output_type": "stream",
     "text": [
      "\n",
      "Frequent shoppers: 289\n",
      "Sum of products 277710.0\n",
      "Average no. of products per order:  42.11\n",
      "Average money spent on purchase: 1118.06 kr\n",
      "\n",
      "Unfrequent shoppers: 658\n",
      "Sum of products 66092.0\n",
      "Average no. of products per order:  33.46\n",
      "Average money spent on purchase: 908.89 kr\n"
     ]
    }
   ],
   "source": [
    "freq_avg, rare_avg, count_freq, count_rare, freq_sum, rare_sum, freq_mon, rare_mon = purchase_stats(no_products, no_purchases, sum_products)\n",
    "#This is how many unique items they bought. \n",
    "avg_freq = freq_avg/count_freq\n",
    "avg_rare = rare_avg/count_rare\n",
    "avg_mon_freq = freq_mon/count_freq\n",
    "avg_mon_rare = rare_mon/count_rare\n",
    "print()\n",
    "print(\"Frequent shoppers:\", count_freq)\n",
    "print(\"Sum of products\", freq_sum) \n",
    "print(\"Average no. of products per order: \", round(avg_freq, 2))\n",
    "print(\"Average money spent on purchase:\", round(avg_mon_freq,2), \"kr\")\n",
    "print()\n",
    "print(\"Unfrequent shoppers:\", count_rare) \n",
    "print(\"Sum of products\", rare_sum) \n",
    "print(\"Average no. of products per order: \", round(avg_rare, 2))\n",
    "print(\"Average money spent on purchase:\", round(avg_mon_rare, 2), \"kr\")\n"
   ]
  },
  {
   "cell_type": "code",
   "execution_count": 15,
   "metadata": {
    "collapsed": true
   },
   "outputs": [],
   "source": [
    "#order_lines[\"is_delivery\"] = order_lines[\"is_delivery\"].astype(str)\n",
    "#order_lines.dtypes"
   ]
  },
  {
   "cell_type": "code",
   "execution_count": 16,
   "metadata": {
    "collapsed": true
   },
   "outputs": [],
   "source": [
    "def delivery_type(no_products, no_purchases, sum_products):\n",
    "    #Første index er antall personer som fikk varene hjemlevert. \n",
    "    #Andre indeex er antall eprsoner som plukket opp vare på hentested\n",
    "    delivery_freq = np.array([[],[]])\n",
    "    delivery_rare = np.array([[],[]])\n",
    "    for i in range (len(no_purchases)):\n",
    "        if (no_purchases[i] >= 9):\n",
    "            if (order_lines[\"is_delivery\"]== True):\n",
    "                delivery_freq[0] += 1\n",
    "            else:\n",
    "                delivery_freq[1] += 1\n",
    "        else:\n",
    "            if (order_lines[\"is_delivery\"] == True):\n",
    "                delivery_rare[0] += 1\n",
    "            else:\n",
    "                delivery_rare[1] += 1\n",
    "    return delivery_freq, delivery_rare\n",
    "\n",
    "    "
   ]
  },
  {
   "cell_type": "code",
   "execution_count": 24,
   "metadata": {},
   "outputs": [
    {
     "data": {
      "text/plain": [
       "customer_id               object\n",
       "birth_date                 int32\n",
       "signed_up_from_channel    object\n",
       "dtype: object"
      ]
     },
     "execution_count": 24,
     "metadata": {},
     "output_type": "execute_result"
    }
   ],
   "source": [
    "customer.dtypes"
   ]
  },
  {
   "cell_type": "code",
   "execution_count": 50,
   "metadata": {
    "collapsed": true
   },
   "outputs": [],
   "source": [
    "def age(no_products, no_purchases, sum_products, youngest, oldest):\n",
    "    age_stats_freq = dict()\n",
    "    age_stats_rare = dict()\n",
    "    i = 1\n",
    "    for i in range(len(no_products)):\n",
    "        if (no_purchases[i] >= 9):\n",
    "            if (customer[\"birth_date\"][i] in age_stats_freq):\n",
    "                age_stats_freq[customer[\"birth_date\"][i]] += 1\n",
    "            else:\n",
    "                age_stats_freq[customer[\"birth_date\"][i]] = 1\n",
    "        else:\n",
    "            if (customer[\"birth_date\"][i] in age_stats_rare):\n",
    "                age_stats_rare[customer[\"birth_date\"][i]] += 1\n",
    "            else:\n",
    "                age_stats_rare[customer[\"birth_date\"][i]] = 1\n",
    "    temp1 = list(age_stats_freq.items())\n",
    "    age_stats_freq = sorted(temp1)\n",
    "    temp2 = list(age_stats_rare.items())\n",
    "    age_stats_rare = sorted(temp2)\n",
    "    return age_stats_freq, age_stats_rare\n",
    "\n",
    " "
   ]
  },
  {
   "cell_type": "code",
   "execution_count": 51,
   "metadata": {},
   "outputs": [
    {
     "name": "stdout",
     "output_type": "stream",
     "text": [
      "[(1938, 1), (1942, 1), (1944, 1), (1946, 2), (1947, 1), (1948, 3), (1950, 1), (1951, 3), (1952, 3), (1953, 1), (1954, 1), (1955, 1), (1956, 2), (1958, 2), (1960, 2), (1961, 2), (1962, 3), (1963, 1), (1966, 1), (1967, 3), (1968, 5), (1969, 7), (1970, 4), (1971, 7), (1972, 4), (1973, 11), (1974, 10), (1975, 15), (1976, 8), (1977, 4), (1978, 15), (1979, 13), (1980, 11), (1981, 14), (1982, 13), (1983, 15), (1984, 12), (1985, 7), (1986, 13), (1987, 13), (1988, 10), (1989, 10), (1990, 4), (1991, 11), (1992, 5), (1993, 1), (1994, 4), (1995, 3), (1996, 2), (1997, 2), (2000, 1)]\n",
      "\n",
      "[(1918, 1), (1927, 1), (1928, 1), (1930, 1), (1931, 1), (1933, 3), (1934, 1), (1936, 1), (1937, 3), (1940, 1), (1941, 1), (1945, 3), (1946, 1), (1947, 1), (1948, 1), (1949, 2), (1950, 3), (1951, 4), (1952, 2), (1953, 3), (1954, 1), (1955, 1), (1956, 2), (1957, 2), (1958, 1), (1959, 5), (1960, 4), (1961, 5), (1962, 4), (1963, 4), (1964, 7), (1965, 5), (1966, 6), (1967, 9), (1968, 11), (1969, 6), (1970, 8), (1971, 9), (1972, 12), (1973, 19), (1974, 19), (1975, 22), (1976, 20), (1977, 29), (1978, 26), (1979, 21), (1980, 26), (1981, 34), (1982, 37), (1983, 26), (1984, 25), (1985, 27), (1986, 27), (1987, 26), (1988, 26), (1989, 14), (1990, 22), (1991, 10), (1992, 9), (1993, 12), (1994, 15), (1995, 10), (1996, 9), (1997, 2), (1998, 2), (1999, 4), (2000, 1)]\n"
     ]
    }
   ],
   "source": [
    "age_freq, age_rare = age(no_products, no_purchases, sum_products, youngest, oldest)\n",
    "\n",
    "#age_freq = np.array(list(age_freq.keys()))\n",
    "\n",
    "\n",
    "\n",
    "\n",
    "print(age_freq)\n",
    "print()\n",
    "print(age_rare)"
   ]
  },
  {
   "cell_type": "code",
   "execution_count": 54,
   "metadata": {
    "scrolled": true
   },
   "outputs": [
    {
     "data": {
      "image/png": "[encoded data removed]",
      "text/plain": [
       "<matplotlib.figure.Figure at 0x1764ffb94a8>"
      ]
     },
     "metadata": {},
     "output_type": "display_data"
    }
   ],
   "source": [
    "\n",
    "years = [y[0] for y in age_freq]\n",
    "values = [y[1] for y in age_freq]\n",
    "\n",
    "plt.figure(figsize=(20,5))\n",
    "plt.xticks(rotation=90)\n",
    "plt.bar(range(len(age_freq)),values,tick_label=years)\n",
    "\n",
    "\n",
    "plt.show()\n",
    "\n"
   ]
  },
  {
   "cell_type": "code",
   "execution_count": 55,
   "metadata": {
    "scrolled": false
   },
   "outputs": [
    {
     "data": {
      "image/png": "[encoded data removed]",
      "text/plain": [
       "<matplotlib.figure.Figure at 0x1764fe3d780>"
      ]
     },
     "metadata": {},
     "output_type": "display_data"
    }
   ],
   "source": [
    "\n",
    "years = [y[0] for y in age_rare]\n",
    "values = [y[1] for y in age_rare]\n",
    "\n",
    "plt.figure(figsize=(20,5))\n",
    "plt.xticks(rotation=90)\n",
    "plt.bar(range(len(age_rare)),values,tick_label=years)\n",
    "\n",
    "\n",
    "plt.show()\n"
   ]
  },
  {
   "cell_type": "code",
   "execution_count": null,
   "metadata": {
    "collapsed": true
   },
   "outputs": [],
   "source": []
  }
 ],
 "metadata": {
  "kernelspec": {
   "display_name": "Python 3",
   "language": "python",
   "name": "python3"
  },
  "language_info": {
   "codemirror_mode": {
    "name": "ipython",
    "version": 3
   },
   "file_extension": ".py",
   "mimetype": "text/x-python",
   "name": "python",
   "nbconvert_exporter": "python",
   "pygments_lexer": "ipython3",
   "version": "3.6.1"
  }
 },
 "nbformat": 4,
 "nbformat_minor": 2
}
